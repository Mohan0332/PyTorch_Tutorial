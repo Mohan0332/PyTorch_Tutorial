{
  "nbformat": 4,
  "nbformat_minor": 0,
  "metadata": {
    "colab": {
      "provenance": [],
      "authorship_tag": "ABX9TyM51msYXdyqzz5tNeJY7RV3",
      "include_colab_link": true
    },
    "kernelspec": {
      "name": "python3",
      "display_name": "Python 3"
    },
    "language_info": {
      "name": "python"
    }
  },
  "cells": [
    {
      "cell_type": "markdown",
      "metadata": {
        "id": "view-in-github",
        "colab_type": "text"
      },
      "source": [
        "<a href=\"https://colab.research.google.com/github/Mohan0332/PyTorch_Tutorial/blob/master/Pytorch_Chapter0.ipynb\" target=\"_parent\"><img src=\"https://colab.research.google.com/assets/colab-badge.svg\" alt=\"Open In Colab\"/></a>"
      ]
    },
    {
      "cell_type": "markdown",
      "source": [
        "## Introduction to Tensors"
      ],
      "metadata": {
        "id": "_zm5X9UqPc9c"
      }
    },
    {
      "cell_type": "code",
      "execution_count": 1,
      "metadata": {
        "id": "D9E7TH0mONKE"
      },
      "outputs": [],
      "source": [
        "import torch"
      ]
    },
    {
      "cell_type": "code",
      "source": [
        "print(torch.__version__)"
      ],
      "metadata": {
        "colab": {
          "base_uri": "https://localhost:8080/"
        },
        "id": "6QRnDdCPQUdm",
        "outputId": "6f5622a0-c304-4198-c1b9-b78b53cc7dac"
      },
      "execution_count": 2,
      "outputs": [
        {
          "output_type": "stream",
          "name": "stdout",
          "text": [
            "2.6.0+cu124\n"
          ]
        }
      ]
    },
    {
      "cell_type": "code",
      "source": [
        "scalar = torch.tensor(4) #ndim = 0\n",
        "scalar"
      ],
      "metadata": {
        "colab": {
          "base_uri": "https://localhost:8080/"
        },
        "id": "NxbM6MgbQfuV",
        "outputId": "ee7bdc33-6763-4a26-e66c-b05f6221b22f"
      },
      "execution_count": 3,
      "outputs": [
        {
          "output_type": "execute_result",
          "data": {
            "text/plain": [
              "tensor(4)"
            ]
          },
          "metadata": {},
          "execution_count": 3
        }
      ]
    },
    {
      "cell_type": "code",
      "source": [
        "vector = torch.tensor([2,2])"
      ],
      "metadata": {
        "id": "sjrxge52Qtpd"
      },
      "execution_count": 4,
      "outputs": []
    },
    {
      "cell_type": "code",
      "source": [
        "vector.ndim"
      ],
      "metadata": {
        "colab": {
          "base_uri": "https://localhost:8080/"
        },
        "id": "4A_LJb3OktUq",
        "outputId": "fece63be-380d-4710-d0b3-4cd113cff33d"
      },
      "execution_count": 5,
      "outputs": [
        {
          "output_type": "execute_result",
          "data": {
            "text/plain": [
              "1"
            ]
          },
          "metadata": {},
          "execution_count": 5
        }
      ]
    },
    {
      "cell_type": "code",
      "source": [
        "vector.shape"
      ],
      "metadata": {
        "colab": {
          "base_uri": "https://localhost:8080/"
        },
        "id": "w4rql2Kjku_m",
        "outputId": "9440d04f-c9b8-4542-ef34-9f77e3e2e1f0"
      },
      "execution_count": 6,
      "outputs": [
        {
          "output_type": "execute_result",
          "data": {
            "text/plain": [
              "torch.Size([2])"
            ]
          },
          "metadata": {},
          "execution_count": 6
        }
      ]
    },
    {
      "cell_type": "code",
      "source": [
        "#Matrix\n",
        "matrix = torch.tensor([[1,2],[3,4]])"
      ],
      "metadata": {
        "id": "VLgQ0gw1lAiK"
      },
      "execution_count": 7,
      "outputs": []
    },
    {
      "cell_type": "code",
      "source": [
        "matrix.ndim"
      ],
      "metadata": {
        "colab": {
          "base_uri": "https://localhost:8080/"
        },
        "id": "sqyaNQuIlu5f",
        "outputId": "b33e9a3d-b764-4617-e0ff-ab23f7cc2775"
      },
      "execution_count": 8,
      "outputs": [
        {
          "output_type": "execute_result",
          "data": {
            "text/plain": [
              "2"
            ]
          },
          "metadata": {},
          "execution_count": 8
        }
      ]
    },
    {
      "cell_type": "code",
      "source": [
        "matrix.shape"
      ],
      "metadata": {
        "colab": {
          "base_uri": "https://localhost:8080/"
        },
        "id": "EZkku2FAlwP2",
        "outputId": "47c42e5b-d351-4e01-9f64-8d9dceeb09c8"
      },
      "execution_count": 9,
      "outputs": [
        {
          "output_type": "execute_result",
          "data": {
            "text/plain": [
              "torch.Size([2, 2])"
            ]
          },
          "metadata": {},
          "execution_count": 9
        }
      ]
    },
    {
      "cell_type": "code",
      "source": [
        "#TENSOR\n",
        "Tensor = torch.tensor([[[1,2,3],[4,5,6],[7,8,9]]])"
      ],
      "metadata": {
        "id": "N-uzPRIrlxgC"
      },
      "execution_count": 10,
      "outputs": []
    },
    {
      "cell_type": "code",
      "source": [
        "Tensor.ndim"
      ],
      "metadata": {
        "colab": {
          "base_uri": "https://localhost:8080/"
        },
        "id": "tTQREQwfmYcw",
        "outputId": "ef75a1e1-e8c6-4a5e-f959-26af2915b664"
      },
      "execution_count": 11,
      "outputs": [
        {
          "output_type": "execute_result",
          "data": {
            "text/plain": [
              "3"
            ]
          },
          "metadata": {},
          "execution_count": 11
        }
      ]
    },
    {
      "cell_type": "code",
      "source": [
        "Tensor.shape"
      ],
      "metadata": {
        "colab": {
          "base_uri": "https://localhost:8080/"
        },
        "id": "yyYeyiL-ma7B",
        "outputId": "b0bbe6df-2e90-436c-cfc3-32410dac6bca"
      },
      "execution_count": 12,
      "outputs": [
        {
          "output_type": "execute_result",
          "data": {
            "text/plain": [
              "torch.Size([1, 3, 3])"
            ]
          },
          "metadata": {},
          "execution_count": 12
        }
      ]
    },
    {
      "cell_type": "code",
      "source": [
        "Tensor[0].shape"
      ],
      "metadata": {
        "colab": {
          "base_uri": "https://localhost:8080/"
        },
        "id": "9WVYHJjmmcle",
        "outputId": "008225e2-ac9f-43ca-898f-8c105e9c27ae"
      },
      "execution_count": 13,
      "outputs": [
        {
          "output_type": "execute_result",
          "data": {
            "text/plain": [
              "torch.Size([3, 3])"
            ]
          },
          "metadata": {},
          "execution_count": 13
        }
      ]
    },
    {
      "cell_type": "markdown",
      "source": [
        " ### Creating a Random Tensor"
      ],
      "metadata": {
        "id": "SW4Q72simeez"
      }
    },
    {
      "cell_type": "code",
      "source": [
        "rand_tensor = torch.rand(4,4,2)\n",
        "rand_tensor"
      ],
      "metadata": {
        "colab": {
          "base_uri": "https://localhost:8080/"
        },
        "id": "H_w3WQuwo2X2",
        "outputId": "a55b7351-7802-4e8b-fa96-905a2a6db69a"
      },
      "execution_count": 14,
      "outputs": [
        {
          "output_type": "execute_result",
          "data": {
            "text/plain": [
              "tensor([[[0.1155, 0.0464],\n",
              "         [0.4679, 0.9717],\n",
              "         [0.6920, 0.7222],\n",
              "         [0.1760, 0.4599]],\n",
              "\n",
              "        [[0.4839, 0.6326],\n",
              "         [0.0621, 0.5132],\n",
              "         [0.5741, 0.0337],\n",
              "         [0.3190, 0.7369]],\n",
              "\n",
              "        [[0.1139, 0.0053],\n",
              "         [0.2685, 0.1982],\n",
              "         [0.6896, 0.7254],\n",
              "         [0.1075, 0.3089]],\n",
              "\n",
              "        [[0.0038, 0.0481],\n",
              "         [0.2745, 0.8645],\n",
              "         [0.3568, 0.0526],\n",
              "         [0.8171, 0.3571]]])"
            ]
          },
          "metadata": {},
          "execution_count": 14
        }
      ]
    },
    {
      "cell_type": "markdown",
      "source": [
        "#### Zeros and Ones Tensor"
      ],
      "metadata": {
        "id": "FuWl5CtvpARC"
      }
    },
    {
      "cell_type": "code",
      "source": [
        "# Tensor of zeros\n",
        "zero_tensor = torch.zeros(2,3)\n",
        "zero_tensor"
      ],
      "metadata": {
        "colab": {
          "base_uri": "https://localhost:8080/"
        },
        "id": "baXEjyDcqyDa",
        "outputId": "11e4d3cb-4c51-40a6-aafd-c9fb0002baea"
      },
      "execution_count": 15,
      "outputs": [
        {
          "output_type": "execute_result",
          "data": {
            "text/plain": [
              "tensor([[0., 0., 0.],\n",
              "        [0., 0., 0.]])"
            ]
          },
          "metadata": {},
          "execution_count": 15
        }
      ]
    },
    {
      "cell_type": "code",
      "source": [
        "#Tensor of Ones\n",
        "one_tensor = torch.ones(2,3)\n",
        "one_tensor"
      ],
      "metadata": {
        "colab": {
          "base_uri": "https://localhost:8080/"
        },
        "id": "WmRCPfjpq8Fx",
        "outputId": "a75db165-339b-494c-85bd-15772b1224fa"
      },
      "execution_count": 16,
      "outputs": [
        {
          "output_type": "execute_result",
          "data": {
            "text/plain": [
              "tensor([[1., 1., 1.],\n",
              "        [1., 1., 1.]])"
            ]
          },
          "metadata": {},
          "execution_count": 16
        }
      ]
    },
    {
      "cell_type": "code",
      "source": [
        "one_tensor.dtype"
      ],
      "metadata": {
        "colab": {
          "base_uri": "https://localhost:8080/"
        },
        "id": "MDy4PmKurLiJ",
        "outputId": "d59bf871-0869-46f7-c42a-8fbe8d55d2a7"
      },
      "execution_count": 17,
      "outputs": [
        {
          "output_type": "execute_result",
          "data": {
            "text/plain": [
              "torch.float32"
            ]
          },
          "metadata": {},
          "execution_count": 17
        }
      ]
    },
    {
      "cell_type": "markdown",
      "source": [
        "Size and Shape:\n",
        "- size is a function hence tensor.size() whereas shape is an attribute so its tensor.shape"
      ],
      "metadata": {
        "id": "IIHGXsM8rPpB"
      }
    },
    {
      "cell_type": "markdown",
      "source": [
        "### Matrix Multiplication\n",
        "\n",
        "Two main ways of multiplication in neural nets and DL is:\n",
        "1. Element-wise multiplication\n",
        "2. Matrix multiplication (dot product)"
      ],
      "metadata": {
        "id": "5_4eeHlK00Rj"
      }
    },
    {
      "cell_type": "code",
      "source": [
        "t1 = torch.tensor([[1,2],[3,4]])\n",
        "t2 = torch.tensor([[5,10],[15,20]])\n",
        "t1 * t2"
      ],
      "metadata": {
        "colab": {
          "base_uri": "https://localhost:8080/"
        },
        "id": "XKM_XgMX9R7e",
        "outputId": "9af9aeb1-ae15-4e0c-8db1-c8a1cb2447e1"
      },
      "execution_count": 18,
      "outputs": [
        {
          "output_type": "execute_result",
          "data": {
            "text/plain": [
              "tensor([[ 5, 20],\n",
              "        [45, 80]])"
            ]
          },
          "metadata": {},
          "execution_count": 18
        }
      ]
    },
    {
      "cell_type": "code",
      "source": [
        "torch.mm(t1,t2)\n"
      ],
      "metadata": {
        "colab": {
          "base_uri": "https://localhost:8080/"
        },
        "id": "oRvpXQuk_ZfO",
        "outputId": "70e43e27-842e-4827-ba3b-ca2476ed40c2"
      },
      "execution_count": 19,
      "outputs": [
        {
          "output_type": "execute_result",
          "data": {
            "text/plain": [
              "tensor([[ 35,  50],\n",
              "        [ 75, 110]])"
            ]
          },
          "metadata": {},
          "execution_count": 19
        }
      ]
    },
    {
      "cell_type": "markdown",
      "source": [
        "### Tensor Manipulation"
      ],
      "metadata": {
        "id": "s0JWJJdvGWTC"
      }
    },
    {
      "cell_type": "code",
      "source": [
        "a = torch.tensor([1,2,3,4,5,6])"
      ],
      "metadata": {
        "id": "EqLLJ2J46IHf"
      },
      "execution_count": 20,
      "outputs": []
    },
    {
      "cell_type": "code",
      "source": [
        "#Min\n",
        "a.min() , torch.min(a)\n",
        "#Both the forms can be used"
      ],
      "metadata": {
        "colab": {
          "base_uri": "https://localhost:8080/"
        },
        "id": "cTZp83lT673v",
        "outputId": "fd850b4f-b2c7-462f-ae21-906def9c78a0"
      },
      "execution_count": 21,
      "outputs": [
        {
          "output_type": "execute_result",
          "data": {
            "text/plain": [
              "(tensor(1), tensor(1))"
            ]
          },
          "metadata": {},
          "execution_count": 21
        }
      ]
    },
    {
      "cell_type": "code",
      "source": [
        "#Max\n",
        "a.max() , torch.max(a)"
      ],
      "metadata": {
        "colab": {
          "base_uri": "https://localhost:8080/"
        },
        "id": "8nLBLfL07EAV",
        "outputId": "75f5da72-3de7-4d3d-fcde-b9f76a50a649"
      },
      "execution_count": 22,
      "outputs": [
        {
          "output_type": "execute_result",
          "data": {
            "text/plain": [
              "(tensor(6), tensor(6))"
            ]
          },
          "metadata": {},
          "execution_count": 22
        }
      ]
    },
    {
      "cell_type": "code",
      "source": [
        "#Mean\n",
        "a.dtype"
      ],
      "metadata": {
        "colab": {
          "base_uri": "https://localhost:8080/"
        },
        "id": "UG5CBtnc7VzH",
        "outputId": "fafad8cd-3bda-4b9d-9527-5ecff25362ed"
      },
      "execution_count": 23,
      "outputs": [
        {
          "output_type": "execute_result",
          "data": {
            "text/plain": [
              "torch.int64"
            ]
          },
          "metadata": {},
          "execution_count": 23
        }
      ]
    },
    {
      "cell_type": "code",
      "source": [
        "#Mean fucntion doesn't support dtypes other than float32, so convert it\n",
        "a.type(torch.float32).mean(), torch.mean(a.type(torch.float32))"
      ],
      "metadata": {
        "colab": {
          "base_uri": "https://localhost:8080/"
        },
        "id": "RPR4zLxE7bXj",
        "outputId": "1247e385-1153-43c6-ea60-5c4337690d72"
      },
      "execution_count": 24,
      "outputs": [
        {
          "output_type": "execute_result",
          "data": {
            "text/plain": [
              "(tensor(3.5000), tensor(3.5000))"
            ]
          },
          "metadata": {},
          "execution_count": 24
        }
      ]
    },
    {
      "cell_type": "code",
      "source": [
        "#Sum\n",
        "a.sum() ,  torch.sum(a)"
      ],
      "metadata": {
        "colab": {
          "base_uri": "https://localhost:8080/"
        },
        "id": "dN-w-aKR7rKM",
        "outputId": "8bcdd833-3ee8-4e70-b355-a51b0ebf64cd"
      },
      "execution_count": 25,
      "outputs": [
        {
          "output_type": "execute_result",
          "data": {
            "text/plain": [
              "(tensor(21), tensor(21))"
            ]
          },
          "metadata": {},
          "execution_count": 25
        }
      ]
    },
    {
      "cell_type": "code",
      "source": [
        "#Position of min and max we use argmin and argmax\n",
        "b = torch.tensor([2,5,1,4,7,3])\n",
        "b.argmax() , b.argmin()"
      ],
      "metadata": {
        "colab": {
          "base_uri": "https://localhost:8080/"
        },
        "id": "XMKCyrKs8DL3",
        "outputId": "8dff7099-3623-4773-910c-c73b5678bf92"
      },
      "execution_count": 26,
      "outputs": [
        {
          "output_type": "execute_result",
          "data": {
            "text/plain": [
              "(tensor(4), tensor(2))"
            ]
          },
          "metadata": {},
          "execution_count": 26
        }
      ]
    },
    {
      "cell_type": "markdown",
      "source": [
        "#### Reshape"
      ],
      "metadata": {
        "id": "wvaSxRYn8XvC"
      }
    },
    {
      "cell_type": "code",
      "source": [
        "x = torch.arange(1.,10.)"
      ],
      "metadata": {
        "id": "LToriXVXEziG"
      },
      "execution_count": 27,
      "outputs": []
    },
    {
      "cell_type": "code",
      "source": [
        "x_reshaped = x.reshape(3,3)\n",
        "x_reshaped[:,0] = 10\n",
        "x_reshaped"
      ],
      "metadata": {
        "colab": {
          "base_uri": "https://localhost:8080/"
        },
        "id": "MzyChj0WE-A0",
        "outputId": "fd971ee2-457d-4636-83de-43ad643a30c1"
      },
      "execution_count": 28,
      "outputs": [
        {
          "output_type": "execute_result",
          "data": {
            "text/plain": [
              "tensor([[10.,  2.,  3.],\n",
              "        [10.,  5.,  6.],\n",
              "        [10.,  8.,  9.]])"
            ]
          },
          "metadata": {},
          "execution_count": 28
        }
      ]
    },
    {
      "cell_type": "markdown",
      "source": [
        "#### View\n"
      ],
      "metadata": {
        "id": "Ip8U_E54Fzn3"
      }
    },
    {
      "cell_type": "code",
      "source": [
        "x1 = torch.arange(2,11)\n",
        "z = x1.view(1,9)\n",
        "z , x1"
      ],
      "metadata": {
        "colab": {
          "base_uri": "https://localhost:8080/"
        },
        "id": "FpqztwLQGMpP",
        "outputId": "63e7c0f7-99ac-4f25-8e4d-3ab0973a397a"
      },
      "execution_count": 29,
      "outputs": [
        {
          "output_type": "execute_result",
          "data": {
            "text/plain": [
              "(tensor([[ 2,  3,  4,  5,  6,  7,  8,  9, 10]]),\n",
              " tensor([ 2,  3,  4,  5,  6,  7,  8,  9, 10]))"
            ]
          },
          "metadata": {},
          "execution_count": 29
        }
      ]
    },
    {
      "cell_type": "code",
      "source": [
        "z[0,0] = 9\n",
        "z , x1"
      ],
      "metadata": {
        "colab": {
          "base_uri": "https://localhost:8080/"
        },
        "id": "HayW6n1EGUzV",
        "outputId": "a73f5c88-b009-44c8-b417-aca99be9ad3f"
      },
      "execution_count": 30,
      "outputs": [
        {
          "output_type": "execute_result",
          "data": {
            "text/plain": [
              "(tensor([[ 9,  3,  4,  5,  6,  7,  8,  9, 10]]),\n",
              " tensor([ 9,  3,  4,  5,  6,  7,  8,  9, 10]))"
            ]
          },
          "metadata": {},
          "execution_count": 30
        }
      ]
    },
    {
      "cell_type": "markdown",
      "source": [
        "***- Read about the memory sharing in view and reshape since both seem similar.***"
      ],
      "metadata": {
        "id": "ytMVLpkdHBI6"
      }
    },
    {
      "cell_type": "markdown",
      "source": [
        "#### Squeeze and Unsqueeze"
      ],
      "metadata": {
        "id": "4cbE1UNzUJ-_"
      }
    },
    {
      "cell_type": "code",
      "source": [
        "x = torch.tensor([[1,2,3,4,]])"
      ],
      "metadata": {
        "id": "pTphGuy7IAO7"
      },
      "execution_count": 31,
      "outputs": []
    },
    {
      "cell_type": "code",
      "source": [
        "x_squeezed = x.squeeze() #Removes all the single size dimensions"
      ],
      "metadata": {
        "id": "i2YlLerAR0-d"
      },
      "execution_count": 32,
      "outputs": []
    },
    {
      "cell_type": "code",
      "source": [
        "x_squeezed.unsqueeze(dim=1) #added a dimension at the specified dim"
      ],
      "metadata": {
        "colab": {
          "base_uri": "https://localhost:8080/"
        },
        "id": "YvgKdJoqR2mv",
        "outputId": "321919e4-6d59-4524-fb69-8786945a8591"
      },
      "execution_count": 33,
      "outputs": [
        {
          "output_type": "execute_result",
          "data": {
            "text/plain": [
              "tensor([[1],\n",
              "        [2],\n",
              "        [3],\n",
              "        [4]])"
            ]
          },
          "metadata": {},
          "execution_count": 33
        }
      ]
    },
    {
      "cell_type": "markdown",
      "source": [
        "#### Permute\n",
        "- Shares the same memory"
      ],
      "metadata": {
        "id": "8RpqD8D2R4H1"
      }
    },
    {
      "cell_type": "code",
      "source": [
        "y = torch.zeros(2,4,3)"
      ],
      "metadata": {
        "id": "584nGC4nU4ah"
      },
      "execution_count": 34,
      "outputs": []
    },
    {
      "cell_type": "code",
      "source": [
        "y.shape"
      ],
      "metadata": {
        "colab": {
          "base_uri": "https://localhost:8080/"
        },
        "id": "6kCZNdAcV3JI",
        "outputId": "5f69b3bc-4ccb-47ec-bf60-43dd95eb91bf"
      },
      "execution_count": 35,
      "outputs": [
        {
          "output_type": "execute_result",
          "data": {
            "text/plain": [
              "torch.Size([2, 4, 3])"
            ]
          },
          "metadata": {},
          "execution_count": 35
        }
      ]
    },
    {
      "cell_type": "code",
      "source": [
        "y_permute = y.permute(1,2,0)\n",
        "y_permute.shape"
      ],
      "metadata": {
        "colab": {
          "base_uri": "https://localhost:8080/"
        },
        "id": "RwrrnL4gV4Lh",
        "outputId": "9d89fd5d-d754-401a-b3be-a4ee2afde8d8"
      },
      "execution_count": 36,
      "outputs": [
        {
          "output_type": "execute_result",
          "data": {
            "text/plain": [
              "torch.Size([4, 3, 2])"
            ]
          },
          "metadata": {},
          "execution_count": 36
        }
      ]
    },
    {
      "cell_type": "code",
      "source": [
        "y[0,0,0] = 9\n",
        "y"
      ],
      "metadata": {
        "colab": {
          "base_uri": "https://localhost:8080/"
        },
        "id": "dyFpeHDlWGk0",
        "outputId": "d0c96126-70f6-4cd8-ea95-4fda8d107105"
      },
      "execution_count": 37,
      "outputs": [
        {
          "output_type": "execute_result",
          "data": {
            "text/plain": [
              "tensor([[[9., 0., 0.],\n",
              "         [0., 0., 0.],\n",
              "         [0., 0., 0.],\n",
              "         [0., 0., 0.]],\n",
              "\n",
              "        [[0., 0., 0.],\n",
              "         [0., 0., 0.],\n",
              "         [0., 0., 0.],\n",
              "         [0., 0., 0.]]])"
            ]
          },
          "metadata": {},
          "execution_count": 37
        }
      ]
    },
    {
      "cell_type": "code",
      "source": [
        "y_permute #Permute shares the same memory so y_permute also has \"9\" at(0,0,0)"
      ],
      "metadata": {
        "colab": {
          "base_uri": "https://localhost:8080/"
        },
        "id": "2rGLD29MWI9V",
        "outputId": "560213d3-9182-4a4e-c038-cf6b5eeae2c1"
      },
      "execution_count": 38,
      "outputs": [
        {
          "output_type": "execute_result",
          "data": {
            "text/plain": [
              "tensor([[[9., 0.],\n",
              "         [0., 0.],\n",
              "         [0., 0.]],\n",
              "\n",
              "        [[0., 0.],\n",
              "         [0., 0.],\n",
              "         [0., 0.]],\n",
              "\n",
              "        [[0., 0.],\n",
              "         [0., 0.],\n",
              "         [0., 0.]],\n",
              "\n",
              "        [[0., 0.],\n",
              "         [0., 0.],\n",
              "         [0., 0.]]])"
            ]
          },
          "metadata": {},
          "execution_count": 38
        }
      ]
    },
    {
      "cell_type": "markdown",
      "source": [
        "####Indexing"
      ],
      "metadata": {
        "id": "vIB9t94ZWXv0"
      }
    },
    {
      "cell_type": "markdown",
      "source": [],
      "metadata": {
        "id": "F6ykxwYJjpX7"
      }
    },
    {
      "cell_type": "code",
      "source": [
        "a_sample = torch.tensor([[[1,2,3],\n",
        "                          [4,5,6],\n",
        "                          [7,8,9]]])\n",
        "a_sample.shape"
      ],
      "metadata": {
        "colab": {
          "base_uri": "https://localhost:8080/"
        },
        "id": "P87im_mXaJX2",
        "outputId": "e4cb9df1-d181-497f-b932-fa815338d24a"
      },
      "execution_count": 39,
      "outputs": [
        {
          "output_type": "execute_result",
          "data": {
            "text/plain": [
              "torch.Size([1, 3, 3])"
            ]
          },
          "metadata": {},
          "execution_count": 39
        }
      ]
    },
    {
      "cell_type": "code",
      "source": [
        "a_sample[:,:,0] #Selects all values from 1st and 2nd dimension but only the 0th index values in the 3rd dimension"
      ],
      "metadata": {
        "colab": {
          "base_uri": "https://localhost:8080/"
        },
        "id": "1TAS1WWfaXa4",
        "outputId": "a982a301-05b4-494c-c358-8af6d1f65c02"
      },
      "execution_count": 40,
      "outputs": [
        {
          "output_type": "execute_result",
          "data": {
            "text/plain": [
              "tensor([[1, 4, 7]])"
            ]
          },
          "metadata": {},
          "execution_count": 40
        }
      ]
    },
    {
      "cell_type": "markdown",
      "source": [
        "#### Reproducability"
      ],
      "metadata": {
        "id": "pcL-XGKhal6b"
      }
    },
    {
      "cell_type": "code",
      "source": [
        "random_seed = 24\n",
        "torch.manual_seed(random_seed) #Makes sure that the randomness is reproducable.\n",
        "tens = torch.rand(2,3)"
      ],
      "metadata": {
        "id": "l3TtqUMQQ9K9"
      },
      "execution_count": 43,
      "outputs": []
    },
    {
      "cell_type": "markdown",
      "source": [
        "#### Tensors on GPU"
      ],
      "metadata": {
        "id": "NOrmbqPSSeNJ"
      }
    },
    {
      "cell_type": "code",
      "source": [
        "tensor = torch.tensor([4,5,6])"
      ],
      "metadata": {
        "id": "PtgCqFl3jtwE"
      },
      "execution_count": 45,
      "outputs": []
    },
    {
      "cell_type": "code",
      "source": [
        "tensor_in_gpu = tensor.to(\"cuda\")"
      ],
      "metadata": {
        "id": "j1hi3C0ZjxZ8"
      },
      "execution_count": null,
      "outputs": []
    }
  ]
}