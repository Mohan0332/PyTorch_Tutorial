{
  "nbformat": 4,
  "nbformat_minor": 0,
  "metadata": {
    "colab": {
      "provenance": [],
      "authorship_tag": "ABX9TyPOx7Tyu2i9q34KfS0Xlkjd",
      "include_colab_link": true
    },
    "kernelspec": {
      "name": "python3",
      "display_name": "Python 3"
    },
    "language_info": {
      "name": "python"
    }
  },
  "cells": [
    {
      "cell_type": "markdown",
      "metadata": {
        "id": "view-in-github",
        "colab_type": "text"
      },
      "source": [
        "<a href=\"https://colab.research.google.com/github/Mohan0332/PyTorch_Tutorial/blob/master/PyTorch_Chapter01.ipynb\" target=\"_parent\"><img src=\"https://colab.research.google.com/assets/colab-badge.svg\" alt=\"Open In Colab\"/></a>"
      ]
    },
    {
      "cell_type": "code",
      "source": [
        "import torch\n",
        "from torch import nn\n",
        "import matplotlib.pyplot as plt\n",
        "import numpy as np"
      ],
      "metadata": {
        "id": "Lk0F5BY32OMi"
      },
      "execution_count": null,
      "outputs": []
    },
    {
      "cell_type": "markdown",
      "source": [
        "#### Linear Regression"
      ],
      "metadata": {
        "id": "_PFss3eW1-Xx"
      }
    },
    {
      "cell_type": "code",
      "source": [
        "weight = 0.7\n",
        "bias  = 0.3\n",
        "\n",
        "X = torch.arange(0,1,0.02).unsqueeze(dim=1)\n",
        "y = weight * X + bias"
      ],
      "metadata": {
        "id": "f8I5gN9s6g90"
      },
      "execution_count": null,
      "outputs": []
    },
    {
      "cell_type": "code",
      "source": [
        "X.shape"
      ],
      "metadata": {
        "colab": {
          "base_uri": "https://localhost:8080/"
        },
        "id": "r6ZNnDol6sUe",
        "outputId": "adf8f91c-8792-409e-aad9-f6cbaa007dfe"
      },
      "execution_count": null,
      "outputs": [
        {
          "output_type": "execute_result",
          "data": {
            "text/plain": [
              "torch.Size([50, 1])"
            ]
          },
          "metadata": {},
          "execution_count": 3
        }
      ]
    },
    {
      "cell_type": "code",
      "source": [
        "y = weight * X + bias\n"
      ],
      "metadata": {
        "id": "YsMhyOKe7NgV"
      },
      "execution_count": null,
      "outputs": []
    },
    {
      "cell_type": "code",
      "source": [
        "X[:10]"
      ],
      "metadata": {
        "colab": {
          "base_uri": "https://localhost:8080/"
        },
        "id": "HpoS3fI67gUf",
        "outputId": "ab6524f2-c429-425d-9265-7e8c444fa994"
      },
      "execution_count": null,
      "outputs": [
        {
          "output_type": "execute_result",
          "data": {
            "text/plain": [
              "tensor([[0.0000],\n",
              "        [0.0200],\n",
              "        [0.0400],\n",
              "        [0.0600],\n",
              "        [0.0800],\n",
              "        [0.1000],\n",
              "        [0.1200],\n",
              "        [0.1400],\n",
              "        [0.1600],\n",
              "        [0.1800]])"
            ]
          },
          "metadata": {},
          "execution_count": 5
        }
      ]
    },
    {
      "cell_type": "code",
      "source": [
        "train_split = int(0.8*len(X))\n",
        "X_train,y_train = X[:train_split], y[:train_split]\n",
        "X_test, y_test = X[train_split:],y[train_split:]"
      ],
      "metadata": {
        "id": "IWtTD083FdYe"
      },
      "execution_count": null,
      "outputs": []
    },
    {
      "cell_type": "code",
      "source": [
        "#Building a Linear Regression Model\n",
        "\n",
        "class LinearRegression(nn.Module):\n",
        "  def __init__(self):\n",
        "    super().__init__()\n",
        "    self.weights = nn.Parameter(torch.randn(1,requires_grad=True,dtype=torch.float))\n",
        "    self.bias = nn.Parameter(torch.randn(1,requires_grad=True,dtype=torch.float))\n",
        "\n",
        "  def forward(self,x: torch.Tensor)-> torch.Tensor:\n",
        "    return self.weights * x + self.bias"
      ],
      "metadata": {
        "id": "J1MKjnb2dndk"
      },
      "execution_count": null,
      "outputs": []
    },
    {
      "cell_type": "code",
      "source": [
        "model = LinearRegression()\n",
        "with torch.inference_mode(): #switches off the autograd since gradient descent is not needed for inference\n",
        "  y_preds = model(X_test)\n",
        "\n",
        "y_preds"
      ],
      "metadata": {
        "colab": {
          "base_uri": "https://localhost:8080/"
        },
        "id": "NHlzjs9kjbJf",
        "outputId": "0e69773a-dbb9-4b23-96e0-6000fe3e11db"
      },
      "execution_count": null,
      "outputs": [
        {
          "output_type": "execute_result",
          "data": {
            "text/plain": [
              "tensor([[-0.1810],\n",
              "        [-0.1697],\n",
              "        [-0.1585],\n",
              "        [-0.1473],\n",
              "        [-0.1360],\n",
              "        [-0.1248],\n",
              "        [-0.1136],\n",
              "        [-0.1023],\n",
              "        [-0.0911],\n",
              "        [-0.0799]])"
            ]
          },
          "metadata": {},
          "execution_count": 8
        }
      ]
    },
    {
      "cell_type": "code",
      "source": [
        "list(model.parameters())"
      ],
      "metadata": {
        "colab": {
          "base_uri": "https://localhost:8080/"
        },
        "id": "1A5BzKx_juMW",
        "outputId": "e80f7351-4bbe-4388-fd04-f114df7a5ad1"
      },
      "execution_count": null,
      "outputs": [
        {
          "output_type": "execute_result",
          "data": {
            "text/plain": [
              "[Parameter containing:\n",
              " tensor([0.5617], requires_grad=True),\n",
              " Parameter containing:\n",
              " tensor([-0.6303], requires_grad=True)]"
            ]
          },
          "metadata": {},
          "execution_count": 9
        }
      ]
    },
    {
      "cell_type": "code",
      "source": [
        "loss_fnc = nn.L1Loss()\n",
        "\n",
        "optimizer = torch.optim.SGD(params = model.parameters(),lr=0.01)"
      ],
      "metadata": {
        "id": "iIizBsZfkFA4"
      },
      "execution_count": null,
      "outputs": []
    },
    {
      "cell_type": "code",
      "source": [
        "model.state_dict()"
      ],
      "metadata": {
        "colab": {
          "base_uri": "https://localhost:8080/"
        },
        "id": "AbTJ_y7yAhNb",
        "outputId": "44cb2f44-9b33-46de-a7b8-2e23803d80be"
      },
      "execution_count": null,
      "outputs": [
        {
          "output_type": "execute_result",
          "data": {
            "text/plain": [
              "OrderedDict([('weights', tensor([0.5617])), ('bias', tensor([-0.6303]))])"
            ]
          },
          "metadata": {},
          "execution_count": 11
        }
      ]
    },
    {
      "cell_type": "code",
      "source": [
        "#Training Loop\n",
        "torch.manual_seed(42)\n",
        "epochs = 200\n",
        "\n",
        "epoch_count = []\n",
        "train_loss_values = []\n",
        "test_loss_values = []\n",
        "\n",
        "for epoch in range(epochs):\n",
        "  model.train()\n",
        "\n",
        "  y_pred = model(X_train)\n",
        "\n",
        "  loss = loss_fnc(y_pred,y_train)\n",
        "  #print(f\"Loss: {loss}\")\n",
        "\n",
        "  optimizer.zero_grad()\n",
        "\n",
        "  loss.backward()\n",
        "\n",
        "  optimizer.step()\n",
        "\n",
        "  #Testing\n",
        "\n",
        "  model.eval()\n",
        "  with torch.inference_mode():\n",
        "    test_pred = model(X_test)\n",
        "    test_loss = loss_fnc(test_pred,y_test)\n",
        "\n",
        "  if(epoch%10 == 0):\n",
        "    epoch_count.append(epoch)\n",
        "    train_loss_values.append(loss)\n",
        "    test_loss_values.append(test_loss)\n",
        "    print(f\"Epoch: {epoch} | Loss: {loss} | Test Loss: {test_loss}\")\n",
        "    print(model.state_dict())"
      ],
      "metadata": {
        "colab": {
          "base_uri": "https://localhost:8080/"
        },
        "collapsed": true,
        "id": "ujMbz_or7zqP",
        "outputId": "d5684b9e-c016-4d8b-bcfb-d0ff0e4b7104"
      },
      "execution_count": null,
      "outputs": [
        {
          "output_type": "stream",
          "name": "stdout",
          "text": [
            "Epoch: 0 | Loss: 0.9842643737792969 | Test Loss: 1.0399516820907593\n",
            "OrderedDict([('weights', tensor([0.5656])), ('bias', tensor([-0.6203]))])\n",
            "Epoch: 10 | Loss: 0.8690544366836548 | Test Loss: 0.905241847038269\n",
            "OrderedDict([('weights', tensor([0.6046])), ('bias', tensor([-0.5203]))])\n",
            "Epoch: 20 | Loss: 0.7538444399833679 | Test Loss: 0.7705320119857788\n",
            "OrderedDict([('weights', tensor([0.6436])), ('bias', tensor([-0.4203]))])\n",
            "Epoch: 30 | Loss: 0.6386346817016602 | Test Loss: 0.6358221769332886\n",
            "OrderedDict([('weights', tensor([0.6826])), ('bias', tensor([-0.3203]))])\n",
            "Epoch: 40 | Loss: 0.5234247446060181 | Test Loss: 0.5011122822761536\n",
            "OrderedDict([('weights', tensor([0.7216])), ('bias', tensor([-0.2203]))])\n",
            "Epoch: 50 | Loss: 0.4082147479057312 | Test Loss: 0.36640235781669617\n",
            "OrderedDict([('weights', tensor([0.7606])), ('bias', tensor([-0.1203]))])\n",
            "Epoch: 60 | Loss: 0.2930047810077667 | Test Loss: 0.23169246315956116\n",
            "OrderedDict([('weights', tensor([0.7996])), ('bias', tensor([-0.0203]))])\n",
            "Epoch: 70 | Loss: 0.17779479920864105 | Test Loss: 0.09698250144720078\n",
            "OrderedDict([('weights', tensor([0.8386])), ('bias', tensor([0.0797]))])\n",
            "Epoch: 80 | Loss: 0.06292630732059479 | Test Loss: 0.036042146384716034\n",
            "OrderedDict([('weights', tensor([0.8768])), ('bias', tensor([0.1787]))])\n",
            "Epoch: 90 | Loss: 0.03688012436032295 | Test Loss: 0.07549040019512177\n",
            "OrderedDict([('weights', tensor([0.8762])), ('bias', tensor([0.2187]))])\n",
            "Epoch: 100 | Loss: 0.032897911965847015 | Test Loss: 0.07482719421386719\n",
            "OrderedDict([('weights', tensor([0.8614])), ('bias', tensor([0.2312]))])\n",
            "Epoch: 110 | Loss: 0.029429281130433083 | Test Loss: 0.0679285079240799\n",
            "OrderedDict([('weights', tensor([0.8447])), ('bias', tensor([0.2392]))])\n",
            "Epoch: 120 | Loss: 0.025991182774305344 | Test Loss: 0.06034291535615921\n",
            "OrderedDict([('weights', tensor([0.8277])), ('bias', tensor([0.2467]))])\n",
            "Epoch: 130 | Loss: 0.02256273850798607 | Test Loss: 0.05207041651010513\n",
            "OrderedDict([('weights', tensor([0.8106])), ('bias', tensor([0.2537]))])\n",
            "Epoch: 140 | Loss: 0.01912565901875496 | Test Loss: 0.04379786178469658\n",
            "OrderedDict([('weights', tensor([0.7934])), ('bias', tensor([0.2607]))])\n",
            "Epoch: 150 | Loss: 0.015689244493842125 | Test Loss: 0.03621218726038933\n",
            "OrderedDict([('weights', tensor([0.7764])), ('bias', tensor([0.2682]))])\n",
            "Epoch: 160 | Loss: 0.012260806746780872 | Test Loss: 0.027939658612012863\n",
            "OrderedDict([('weights', tensor([0.7593])), ('bias', tensor([0.2752]))])\n",
            "Epoch: 170 | Loss: 0.008822042495012283 | Test Loss: 0.019667118787765503\n",
            "OrderedDict([('weights', tensor([0.7421])), ('bias', tensor([0.2822]))])\n",
            "Epoch: 180 | Loss: 0.005387314595282078 | Test Loss: 0.01208146195858717\n",
            "OrderedDict([('weights', tensor([0.7252])), ('bias', tensor([0.2897]))])\n",
            "Epoch: 190 | Loss: 0.001962382346391678 | Test Loss: 0.00313093070872128\n",
            "OrderedDict([('weights', tensor([0.7078])), ('bias', tensor([0.2962]))])\n"
          ]
        }
      ]
    },
    {
      "cell_type": "code",
      "source": [
        "model.state_dict()"
      ],
      "metadata": {
        "colab": {
          "base_uri": "https://localhost:8080/"
        },
        "id": "DFRZ2tOVAmhy",
        "outputId": "8d31e53a-4b64-467d-866b-cae87c388787"
      },
      "execution_count": null,
      "outputs": [
        {
          "output_type": "execute_result",
          "data": {
            "text/plain": [
              "OrderedDict([('weights', tensor([0.7074])), ('bias', tensor([0.3037]))])"
            ]
          },
          "metadata": {},
          "execution_count": 13
        }
      ]
    },
    {
      "cell_type": "code",
      "source": [
        "with torch.inference_mode():\n",
        "  y_preds_postTraining = model(X_test)\n",
        "\n",
        "y_preds_postTraining"
      ],
      "metadata": {
        "colab": {
          "base_uri": "https://localhost:8080/"
        },
        "id": "fNk4SuMtAoa5",
        "outputId": "b99877d8-407b-4867-8b8b-0edbb7074100"
      },
      "execution_count": null,
      "outputs": [
        {
          "output_type": "execute_result",
          "data": {
            "text/plain": [
              "tensor([[0.8696],\n",
              "        [0.8837],\n",
              "        [0.8979],\n",
              "        [0.9120],\n",
              "        [0.9262],\n",
              "        [0.9403],\n",
              "        [0.9545],\n",
              "        [0.9686],\n",
              "        [0.9827],\n",
              "        [0.9969]])"
            ]
          },
          "metadata": {},
          "execution_count": 14
        }
      ]
    },
    {
      "cell_type": "code",
      "source": [
        "plt.plot(epoch_count,torch.Tensor(train_loss_values).numpy(), label = \"Train Loss\")\n",
        "plt.plot(epoch_count, test_loss_values,label = \"Test Loss\")\n",
        "plt.xlabel(\"Epochs\")\n",
        "plt.ylabel(\"Loss\")\n",
        "plt.title(\"Loss curves\")\n",
        "plt.legend()"
      ],
      "metadata": {
        "colab": {
          "base_uri": "https://localhost:8080/",
          "height": 489
        },
        "id": "EceZtnMjFIRX",
        "outputId": "d8822465-f421-4a72-c7bd-5d409d8c63db"
      },
      "execution_count": null,
      "outputs": [
        {
          "output_type": "execute_result",
          "data": {
            "text/plain": [
              "<matplotlib.legend.Legend at 0x797745cf5510>"
            ]
          },
          "metadata": {},
          "execution_count": 15
        },
        {
          "output_type": "display_data",
          "data": {
            "text/plain": [
              "<Figure size 640x480 with 1 Axes>"
            ],
            "image/png": "[encoded data removed]"
          },
          "metadata": {}
        }
      ]
    },
    {
      "cell_type": "markdown",
      "source": [
        "#### Saving and Loading a model"
      ],
      "metadata": {
        "id": "7UBRJSPhI20o"
      }
    },
    {
      "cell_type": "code",
      "source": [
        "#Saving a model\n",
        "from pathlib import Path\n",
        "\n",
        "model_path = Path(\"models\")\n",
        "model_path.mkdir(parents=True,exist_ok=True)\n",
        "\n",
        "model_name = \"pytorch_chapter_01_linreg_model.pth\"\n",
        "model_save_path = model_path / model_name\n",
        "\n",
        "print(f\"Saving model to : {model_save_path}\")\n",
        "torch.save(obj=model.state_dict(),f=model_save_path)"
      ],
      "metadata": {
        "colab": {
          "base_uri": "https://localhost:8080/"
        },
        "id": "oJcPJqFbNbRs",
        "outputId": "6774a0db-72ec-47be-f880-09c841efe5f1"
      },
      "execution_count": null,
      "outputs": [
        {
          "output_type": "stream",
          "name": "stdout",
          "text": [
            "Saving model to : models/pytorch_chapter_01_linreg_model.pth\n"
          ]
        }
      ]
    },
    {
      "cell_type": "code",
      "source": [
        "#Loading a model, Note: we are only saving a loading the state_dict not the whole model.\n",
        "\n",
        "loaded_model = LinearRegression()\n",
        "\n",
        "loaded_model.load_state_dict(torch.load(f=model_save_path))"
      ],
      "metadata": {
        "colab": {
          "base_uri": "https://localhost:8080/"
        },
        "id": "qur0AlZ2NkFw",
        "outputId": "732becb0-234b-4c9e-d5ca-b9f9c85aa66d"
      },
      "execution_count": null,
      "outputs": [
        {
          "output_type": "execute_result",
          "data": {
            "text/plain": [
              "<All keys matched successfully>"
            ]
          },
          "metadata": {},
          "execution_count": 17
        }
      ]
    },
    {
      "cell_type": "code",
      "source": [
        "loaded_model.state_dict()"
      ],
      "metadata": {
        "colab": {
          "base_uri": "https://localhost:8080/"
        },
        "id": "XIAs4OrvOkw_",
        "outputId": "a0aedba8-0455-4f68-fb3a-05e775d26b23"
      },
      "execution_count": null,
      "outputs": [
        {
          "output_type": "execute_result",
          "data": {
            "text/plain": [
              "OrderedDict([('weights', tensor([0.7074])), ('bias', tensor([0.3037]))])"
            ]
          },
          "metadata": {},
          "execution_count": 18
        }
      ]
    },
    {
      "cell_type": "code",
      "source": [],
      "metadata": {
        "id": "OkgM8cIucnZX"
      },
      "execution_count": null,
      "outputs": []
    }
  ]
}